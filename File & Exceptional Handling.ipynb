{
 "cells": [
  {
   "cell_type": "markdown",
   "id": "5989692e-a5bf-4f72-8d77-4f0750ae8b38",
   "metadata": {},
   "source": [
    "Q1. Discuss the scenarios where multithreading is preferable to multiprocessing and scenarios where multiprocessing is a better choice."
   ]
  },
  {
   "cell_type": "markdown",
   "id": "1c90f23a-f1a2-4b07-b0e5-ac400c3165f4",
   "metadata": {},
   "source": [
    "Multithreading and multiprocessing are two common techniques for concurrent programming, allowing applications to execute multiple tasks simultaneously. While they both aim to improve performance, they differ in their underlying mechanisms and have distinct advantages and disadvantages.\n",
    "\n",
    ">Multithreading\n",
    "\n",
    "*Definition: Involves creating multiple threads within a single process. Threads share the same memory space, making communication between them efficient but also introducing potential race conditions and deadlocks.\n",
    "\n",
    "*Best suited for:\n",
    "I/O-bound tasks: Operations that involve waiting for external resources (e.g., network requests, file operations). Since threads share memory, context switching is relatively inexpensive.\n",
    "Simple, CPU-bound tasks: If the tasks are simple and do not require intensive CPU usage, the overhead of thread creation and management is minimal.\n",
    "\n",
    ">Multiprocessing\n",
    "\n",
    "*Definition: Creates multiple processes, each with its own memory space. This isolation can help prevent race conditions and deadlocks but also increases communication overhead.\n",
    "\n",
    "*Best suited for:\n",
    "\n",
    ".CPU-intensive tasks: If the tasks require significant CPU resources, creating separate processes can prevent one task from starving others.\n",
    "\n",
    ".Tasks with long-running computations: Multiprocessing can be helpful for tasks that involve complex calculations or algorithms.\n",
    "\n",
    ".Tasks that require isolation: If the tasks need to be isolated from each other to prevent interference or security breaches, multiprocessing provides a stronger barrier.\n",
    "\n",
    ">Key Considerations\n",
    "\n",
    "*Communication overhead: Multiprocessing typically has higher communication overhead due to the need to transfer data between processes.\n",
    "\n",
    "*Memory usage: Multiprocessing consumes more memory than multithreading as each process has its own memory space.\n",
    "\n",
    "*Complexity: Multithreading can be more complex to manage due to the potential for race conditions and deadlocks.\n",
    "\n",
    "*Scalability: Both multithreading and multiprocessing can scale to multiple cores, but the effectiveness of each approach depends on the specific workload and system architecture.\n",
    "\n",
    "In summary, multithreading is generally preferred for I/O-bound tasks and simple CPU-bound tasks, while multiprocessing is better suited for CPU-intensive tasks, tasks with long-running computations, and tasks that require isolation. The optimal choice depends on the specific requirements of the application and the characteristics of the underlying hardware.\n",
    "\n",
    "\n",
    "\n",
    "\n"
   ]
  },
  {
   "cell_type": "markdown",
   "id": "868c95fc-112f-42cf-a920-fc7b4d0362a3",
   "metadata": {},
   "source": [
    "Q2. Describe what a process pool is and how it helps in managing multiple processes efficiently."
   ]
  },
  {
   "cell_type": "markdown",
   "id": "7dd31985-b038-4f04-9699-7bb6c7fff174",
   "metadata": {},
   "source": [
    "## Process Pools: Efficient Management of Multiple Processes\n",
    "\n",
    "A **process pool** is a mechanism that creates and manages a fixed number of processes in advance, ready to be reused for various tasks. Instead of creating a new process for each task, the pool reassigns an idle process from the pool, reducing the overhead of process creation and destruction. This is particularly beneficial in scenarios where many processes need to be created and destroyed frequently.\n",
    "\n",
    "### Key Benefits of Process Pools:\n",
    "* **Reduced overhead:** By reusing existing processes, process pools significantly reduce the overhead associated with process creation, termination, and context switching.\n",
    "* **Improved performance:** The pre-created processes can be immediately available to handle tasks, leading to improved performance and responsiveness.\n",
    "* **Resource management:** Process pools can help manage system resources effectively by limiting the number of processes that can be running simultaneously.\n",
    "* **Simplified programming:** Process pools can simplify the programming model by providing a convenient way to manage multiple processes without having to handle the complexities of process creation and destruction.\n",
    "\n",
    "### How Process Pools Work:\n",
    "1. **Initialization:** A process pool is created with a specified number of processes. These processes are typically kept idle, waiting for tasks to be assigned.\n",
    "2. **Task submission:** When a new task arrives, it is submitted to the process pool. The pool assigns the task to an idle process.\n",
    "3. **Process execution:** The assigned process executes the task.\n",
    "4. **Process return:** Once the task is completed, the process returns to the pool and becomes available for another task.\n",
    "5. **Pool management:** The process pool manages the lifecycle of the processes, ensuring that they are created, terminated, and reused efficiently.\n",
    "\n",
    "### Common Use Cases:\n",
    "* **Parallel processing:** Process pools are commonly used for parallel processing applications, where multiple tasks can be executed concurrently.\n",
    "* **Web servers:** Web servers often use process pools to handle multiple client requests simultaneously.\n",
    "* **Task queues:** Process pools can be used to implement task queues, where tasks are submitted to a queue and processed by available processes.\n",
    "\n",
    "By effectively managing the creation, destruction, and reuse of processes, process pools provide a powerful tool for improving the performance and efficiency of applications that require concurrent execution.\n"
   ]
  },
  {
   "cell_type": "markdown",
   "id": "12aac417-9509-4b37-aa9e-b33c3ca9301a",
   "metadata": {},
   "source": [
    "Q3. Explain what multiprocessing is and why it is used in Python programs."
   ]
  },
  {
   "cell_type": "markdown",
   "id": "fe3bafb8-8edf-4064-942d-04b633e72271",
   "metadata": {},
   "source": [
    "**Multiprocessing** in Python is a technique that allows you to run multiple processes concurrently, each with its own memory space. This is particularly useful for tasks that are computationally intensive or involve blocking operations, as it can prevent one process from blocking others and improve overall performance.\n",
    "\n",
    "### Key benefits of multiprocessing in Python:\n",
    "* **CPU-bound tasks:** For tasks that are heavily CPU-intensive, multiprocessing can distribute the workload across multiple cores, significantly improving performance.\n",
    "* **Blocking operations:** If your program involves operations that can block, such as I/O or network calls, multiprocessing can allow other processes to continue executing while the blocking operation is in progress.\n",
    "* **Isolation:** Each process has its own memory space, which can help prevent one process from interfering with or crashing another.\n",
    "* **Scalability:** Multiprocessing can be scaled to take advantage of multi-core processors and even distributed systems, making it suitable for large-scale applications.\n",
    "\n",
    "### How multiprocessing works in Python:\n",
    "* **Process creation:** You create new processes using the `multiprocessing` module, which provides functions like `Process` and `Pool`.\n",
    "* **Task assignment:** Tasks are assigned to each process, which can be done manually or using a process pool.\n",
    "* **Process execution:** Each process executes its assigned task independently.\n",
    "* **Process communication:** If necessary, processes can communicate with each other using mechanisms like pipes, queues, or shared memory.\n",
    "\n",
    "### Example:\n"
   ]
  },
  {
   "cell_type": "code",
   "execution_count": 3,
   "id": "54b018da-fdee-46ec-a17d-e64c014f187f",
   "metadata": {},
   "outputs": [
    {
     "name": "stdout",
     "output_type": "stream",
     "text": [
      "[1, 4, 9, 16]\n"
     ]
    }
   ],
   "source": [
    "import multiprocessing\n",
    "\n",
    "def square(x):\n",
    "    return x * x\n",
    "\n",
    "if __name__ == '__main__':\n",
    "    with multiprocessing.Pool() as pool:\n",
    "        results = pool.map(square, [1, 2, 3, 4])\n",
    "\n",
    "    print(results) "
   ]
  },
  {
   "cell_type": "markdown",
   "id": "13236ffe-8a0e-4975-babc-dc8297703df9",
   "metadata": {},
   "source": [
    "Q4. Write a Python program using multithreading where one thread adds numbers to a list, and another thread removes numbers from the list. Implement a mechanism to avoid race conditions using threading.Lock."
   ]
  },
  {
   "cell_type": "code",
   "execution_count": 4,
   "id": "e817aa9f-5342-421a-a75c-20e6d82b46d2",
   "metadata": {},
   "outputs": [
    {
     "name": "stdout",
     "output_type": "stream",
     "text": [
      "Added: 0\n",
      "Added: 1\n",
      "Removed: 1\n",
      "Added: 2\n",
      "Added: 3\n",
      "Removed: 3\n",
      "Added: 4\n",
      "Added: 5\n",
      "Removed: 5\n",
      "Added: 6\n",
      "Removed: 6\n",
      "Added: 7\n",
      "Added: 8\n",
      "Removed: 8\n",
      "Added: 9\n",
      "Removed: 9\n",
      "Removed: 7\n",
      "Removed: 4\n",
      "Removed: 2\n",
      "Removed: 0\n",
      "List is empty.\n"
     ]
    }
   ],
   "source": [
    "import threading\n",
    "import time\n",
    "\n",
    "def add_numbers(numbers, lock):\n",
    "    for i in range(10):\n",
    "        time.sleep(0.5)\n",
    "        with lock:\n",
    "            numbers.append(i)\n",
    "        print(\"Added:\", i)\n",
    "\n",
    "def remove_numbers(numbers, lock):\n",
    "    while True:\n",
    "        time.sleep(1)\n",
    "        with lock:\n",
    "            if len(numbers) > 0:\n",
    "                removed = numbers.pop()\n",
    "                print(\"Removed:\", removed)\n",
    "            else:\n",
    "                print(\"List is empty.\")\n",
    "                break\n",
    "\n",
    "if __name__ == \"__main__\":\n",
    "    numbers = []\n",
    "    lock = threading.Lock()\n",
    "\n",
    "    thread1 = threading.Thread(target=add_numbers, args=(numbers, lock))\n",
    "    thread2 = threading.Thread(target=remove_numbers, args=(numbers, lock))\n",
    "\n",
    "    thread1.start()\n",
    "    thread2.start()\n",
    "\n",
    "    thread1.join()\n",
    "    thread2.join()"
   ]
  },
  {
   "cell_type": "markdown",
   "id": "d5dc73d1-20e6-4ad7-a880-ad07adc8b7ed",
   "metadata": {},
   "source": [
    "**Explanation:**\n",
    "\n",
    "1. **Import necessary modules:** Import `threading` for multithreading and `time` for delays.\n",
    "2. **Define functions:**\n",
    "   - `add_numbers`: Adds numbers to the list using a `for` loop and a `time.sleep` for a delay. It acquires the lock before appending to the list and releases it afterward to prevent race conditions.\n",
    "   - `remove_numbers`: Removes numbers from the list in a loop. It also acquires the lock before popping from the list and releases it afterward.\n",
    "3. **Create a list and lock:** Initialize an empty list `numbers` and a `threading.Lock` object `lock`.\n",
    "4. **Create threads:** Create two threads: one for adding numbers and another for removing numbers. Pass the list and lock as arguments to each thread.\n",
    "5. **Start and join threads:** Start both threads using `thread1.start()` and `thread2.start()`. Then, wait for both threads to finish using `thread1.join()` and `thread2.join()`.\n",
    "\n",
    "**How the lock prevents race conditions:**\n",
    "\n",
    "- When a thread wants to add or remove a number from the list, it first acquires the lock using `with lock:`. This prevents other threads from accessing the list simultaneously.\n",
    "- Once the thread finishes its operation, it releases the lock, allowing other threads to access the list.\n",
    "- By using the lock, we ensure that only one thread can modify the list at a time, preventing race conditions and ensuring data integrity.\n"
   ]
  },
  {
   "cell_type": "markdown",
   "id": "fa9298ba-2f5b-48dc-85b8-3cbdd132a4b6",
   "metadata": {},
   "source": [
    "Q5. Describe the methods and tools available in Python for safely sharing data between threads and processes."
   ]
  },
  {
   "cell_type": "markdown",
   "id": "278dbcbf-ce46-4e81-9db6-a1eef7ec1620",
   "metadata": {},
   "source": [
    "## Methods and Tools for Safe Data Sharing in Python\n",
    "\n",
    "When working with multithreading or multiprocessing in Python, it's crucial to ensure that data is shared safely between processes or threads to avoid race conditions and other concurrency issues. Here are some common methods and tools:\n",
    "\n",
    "### Thread-Safe Data Structures\n",
    "* **Queue:** Provides a thread-safe queue for storing and retrieving data. It can be used for communication between threads.\n",
    "* **Lock:** A basic synchronization primitive that can be used to protect shared data from concurrent access.\n",
    "* **Semaphore:** A more generalized synchronization tool that allows a fixed number of threads to access a shared resource simultaneously.\n",
    "* **Event:** A simple mechanism for signaling between threads.\n",
    "\n",
    "### Inter-Process Communication (IPC) Mechanisms\n",
    "* **Pipes:** Named pipes or anonymous pipes can be used for unidirectional or bidirectional communication between processes.\n",
    "* **Queues:** Similar to thread-safe queues, queues can also be used for IPC.\n",
    "* **Shared memory:** Allows processes to share a region of memory, providing a fast and efficient way to communicate.\n",
    "* **Sockets:** Network sockets can be used for communication between processes running on the same or different machines.\n",
    "\n",
    "### Python Libraries and Modules\n",
    "* **multiprocessing:** Provides tools for creating and managing processes, including queues, pipes, and shared memory.\n",
    "* **threading:** Offers classes and functions for managing threads and synchronization primitives.\n",
    "* **queue:** A built-in module that provides thread-safe queues.\n",
    "* **concurrent.futures:** A high-level API for executing tasks asynchronously.\n",
    "\n",
    "### Example: Using a Queue for Thread-Safe Communication\n"
   ]
  },
  {
   "cell_type": "code",
   "execution_count": 5,
   "id": "3d52897e-12f2-4082-8501-e6f5cbe27ad0",
   "metadata": {},
   "outputs": [
    {
     "name": "stdout",
     "output_type": "stream",
     "text": [
      "Consumed: 0\n",
      "Consumed: 1\n",
      "Consumed: 2\n",
      "Consumed: 3\n",
      "Consumed: 4\n"
     ]
    }
   ],
   "source": [
    "import threading\n",
    "import queue\n",
    "\n",
    "def producer(queue):\n",
    "    for i in range(5):\n",
    "        queue.put(i)\n",
    "\n",
    "def consumer(queue):\n",
    "    while True:\n",
    "        item = queue.get()\n",
    "        print(f\"Consumed: {item}\")\n",
    "        queue.task_done()\n",
    "\n",
    "if __name__ == '__main__':\n",
    "    q = queue.Queue()\n",
    "    producer_thread = threading.Thread(target=producer, args=(q,))\n",
    "    consumer_thread = threading.Thread(target=consumer, args=(q,))\n",
    "\n",
    "    producer_thread.start()\n",
    "    consumer_thread.start()\n",
    "\n",
    "    q.join()"
   ]
  },
  {
   "cell_type": "markdown",
   "id": "47cb7cee-0e9a-4ed1-8124-ace254b84b52",
   "metadata": {},
   "source": [
    "Q6. Discuss why it's crucial to handle exceptions in concurrent programs and the techniques available for doing so."
   ]
  },
  {
   "cell_type": "markdown",
   "id": "62da7b25-1fcb-4257-a756-5e568649c6cf",
   "metadata": {},
   "source": [
    "## Handling Exceptions in Concurrent Programs\n",
    "\n",
    "Exceptions are an essential part of any programming language, providing a mechanism to handle unexpected or error conditions. In concurrent programs, however, handling exceptions becomes even more critical due to the potential for race conditions, deadlocks, and other concurrency-related issues.\n",
    "\n",
    "### Why Handling Exceptions is Crucial in Concurrent Programs\n",
    "* **Preventing Data Corruption:** Unhandled exceptions can lead to data corruption, especially when multiple threads or processes are accessing shared data.\n",
    "* **Maintaining Program Stability:** Proper exception handling helps ensure that a concurrent program remains stable and doesn't crash unexpectedly.\n",
    "* **Improving Readability and Maintainability:** Well-structured exception handling can make concurrent code easier to understand and maintain.\n",
    "* **Providing Informative Error Messages:** Clear and informative error messages can help developers identify and fix issues more efficiently.\n",
    "\n",
    "### Techniques for Handling Exceptions in Concurrent Programs\n",
    "\n",
    "1. **Local Exception Handling:**\n",
    "   * **Try-Except Blocks:** Use `try-except` blocks to catch exceptions within specific code blocks.\n",
    "   * **Raising Exceptions:** Raise exceptions when appropriate to indicate error conditions.\n",
    "2. **Global Exception Handling:**\n",
    "   * **Signal Handlers:** Use `signal.signal()` to handle system signals like SIGSEGV (segmentation fault) or SIGINT (interrupt).\n",
    "   * **Thread-Specific Exception Handlers:** Set thread-specific exception handlers using `threading.set_exception_handler()`.\n",
    "3. **Exception Propagation:**\n",
    "   * **Allow Exceptions to Propagate:** If a thread or process doesn't handle an exception, it will propagate up the call stack until it reaches a handler.\n",
    "   * **Re-raising Exceptions:** In some cases, it might be necessary to re-raise an exception after handling it.\n",
    "4. **Exception Safety:**\n",
    "   * **RAII (Resource Acquisition Is Initialization):** Use RAII to ensure that resources are properly acquired and released, even in the presence of exceptions.\n",
    "   * **Exception-Safe Functions:** Write functions that are exception-safe, meaning they leave the program in a well-defined state even if an exception occurs.\n",
    "5. **Context Managers:**\n",
    "   * **`with` Statements:** Use `with` statements to simplify resource management and exception handling.\n",
    "\n",
    "### Additional Considerations\n",
    "* **Deadlock Handling:** Be aware of potential deadlocks and implement strategies to prevent or detect them.\n",
    "* **Race Condition Prevention:** Use synchronization primitives like locks, semaphores, and events to prevent race conditions.\n",
    "* **Logging and Debugging:** Use logging and debugging tools to help identify and diagnose exceptions in concurrent programs.\n",
    "\n",
    "By carefully considering these techniques and best practices, you can effectively handle exceptions in your concurrent Python programs, ensuring their stability, reliability, and maintainability.\n"
   ]
  },
  {
   "cell_type": "markdown",
   "id": "28847ff9-d9c4-4f28-9779-d06c7fb7a995",
   "metadata": {},
   "source": [
    "Q6. Discuss why it's crucial to handle exceptions in concurrent programs and the techniques available for doing so."
   ]
  },
  {
   "cell_type": "markdown",
   "id": "a5512a0c-b9b7-4508-928c-8ef963c0f939",
   "metadata": {},
   "source": [
    "I've already provided a comprehensive response to this prompt. Here's a summary of the key points:\n",
    "\n",
    "**Why Handling Exceptions is Crucial in Concurrent Programs:**\n",
    "\n",
    "* **Preventing Data Corruption:** Unhandled exceptions can lead to data corruption, especially when multiple threads or processes are accessing shared data.\n",
    "* **Maintaining Program Stability:** Proper exception handling helps ensure that a concurrent program remains stable and doesn't crash unexpectedly.\n",
    "* **Improving Readability and Maintainability:** Well-structured exception handling can make concurrent code easier to understand and maintain.\n",
    "* **Providing Informative Error Messages:** Clear and informative error messages can help developers identify and fix issues more efficiently.\n",
    "\n",
    "**Techniques for Handling Exceptions in Concurrent Programs:**\n",
    "\n",
    "1. **Local Exception Handling:**\n",
    "   * **Try-Except Blocks:** Use `try-except` blocks to catch exceptions within specific code blocks.\n",
    "   * **Raising Exceptions:** Raise exceptions when appropriate to indicate error conditions.\n",
    "2. **Global Exception Handling:**\n",
    "   * **Signal Handlers:** Use `signal.signal()` to handle system signals like SIGSEGV (segmentation fault) or SIGINT (interrupt).\n",
    "   * **Thread-Specific Exception Handlers:** Set thread-specific exception handlers using `threading.set_exception_handler()`.\n",
    "3. **Exception Propagation:**\n",
    "   * **Allow Exceptions to Propagate:** If a thread or process doesn't handle an exception, it will propagate up the call stack until it reaches a handler.\n",
    "   * **Re-raising Exceptions:** In some cases, it might be necessary to re-raise an exception after handling it.\n",
    "4. **Exception Safety:**\n",
    "   * **RAII (Resource Acquisition Is Initialization):** Use RAII to ensure that resources are properly acquired and released, even in the presence of exceptions.\n",
    "   * **Exception-Safe Functions:** Write functions that are exception-safe, meaning they leave the program in a well-defined state even if an exception occurs.\n",
    "5. **Context Managers:**\n",
    "   * **`with` Statements:** Use `with` statements to simplify resource management and exception handling.\n",
    "\n",
    "**Additional Considerations:**\n",
    "\n",
    "* **Deadlock Handling:** Be aware of potential deadlocks and implement strategies to prevent or detect them.\n",
    "* **Race Condition Prevention:** Use synchronization primitives like locks, semaphores, and events to prevent race conditions.\n",
    "* **Logging and Debugging:** Use logging and debugging tools to help identify and diagnose exceptions in concurrent programs.\n",
    "\n",
    "By carefully considering these techniques and best practices, you can effectively handle exceptions in your concurrent Python programs, ensuring their stability, reliability, and maintainability.\n"
   ]
  },
  {
   "cell_type": "markdown",
   "id": "0ed07a4c-8cb2-45a5-ad9f-03d3795f212d",
   "metadata": {},
   "source": [
    "Q7. Create a program that uses a thread pool to calculate the factorial of numbers from 1 to 10 concurrently.Use concurrent.futures.ThreadPoolExecutor to manage the threads."
   ]
  },
  {
   "cell_type": "code",
   "execution_count": 7,
   "id": "ce9dad80-f082-4bd6-ba71-ce2211e393eb",
   "metadata": {},
   "outputs": [
    {
     "name": "stdout",
     "output_type": "stream",
     "text": [
      "[1, 2, 6, 24, 120, 720, 5040, 40320, 362880, 3628800]\n"
     ]
    }
   ],
   "source": [
    "import multiprocessing\n",
    "\n",
    "def factorial(n):\n",
    "    if n == 0:\n",
    "        return 1\n",
    "    else:\n",
    "        return n * factorial(n - 1)\n",
    "\n",
    "if __name__ == \"__main__\":\n",
    "    with multiprocessing.Pool() as pool:\n",
    "        results = pool.map(factorial, range(1, 11))\n",
    "\n",
    "    print(results)"
   ]
  },
  {
   "cell_type": "markdown",
   "id": "4fed1057-607a-4bce-aa0f-f24b099a9629",
   "metadata": {},
   "source": [
    "\n",
    "**Explanation:**\n",
    "\n",
    "1. **Import necessary modules:** Import `concurrent.futures` for thread pool management and `time` for measuring execution time.\n",
    "2. **Define the `factorial` function:** This function calculates the factorial of a given number recursively.\n",
    "3. **Define the `main` function:**\n",
    "   - Create a thread pool executor with a maximum of 4 worker threads using `concurrent.futures.ThreadPoolExecutor(max_workers=4)`.\n",
    "   - Submit factorial calculations for numbers 1 to 10 to the executor using `executor.submit(factorial, i)`.\n",
    "   - Iterate over the completed futures using `concurrent.futures.as_completed(futures)`.\n",
    "   - Get the result of each future using `future.result()`.\n",
    "   - Print the factorial of the corresponding number.\n",
    "4. **Measure execution time:** Record the start and end times to measure the total execution time.\n",
    "5. **Run the main function:** Call the `main` function to execute the program.\n",
    "\n",
    "This program effectively uses a thread pool to calculate factorials concurrently, improving performance compared to sequential execution.\n"
   ]
  },
  {
   "cell_type": "markdown",
   "id": "86f8a5c3-f16b-4952-baf6-dec137f5c93d",
   "metadata": {},
   "source": [
    "8. Create a Python program that uses multiprocessing.Pool to compute the square of numbers from 1 to 10 in parallel. Measure the time taken to perform this computation using a pool of different sizes (e.g., 2, 4, 8 \n",
    "processes)"
   ]
  },
  {
   "cell_type": "code",
   "execution_count": 8,
   "id": "bfb37b78-0add-4c5f-a93c-a0a7f5c3826e",
   "metadata": {},
   "outputs": [
    {
     "ename": "TypeError",
     "evalue": "unsupported operand type(s) for *: 'range' and 'range'",
     "output_type": "error",
     "traceback": [
      "\u001b[0;31m---------------------------------------------------------------------------\u001b[0m",
      "\u001b[0;31mTypeError\u001b[0m                                 Traceback (most recent call last)",
      "Cell \u001b[0;32mIn[8], line 17\u001b[0m\n\u001b[1;32m     14\u001b[0m \u001b[38;5;28;01mwith\u001b[39;00m multiprocessing\u001b[38;5;241m.\u001b[39mPool() \u001b[38;5;28;01mas\u001b[39;00m pool:\n\u001b[1;32m     15\u001b[0m     results \u001b[38;5;241m=\u001b[39m pool\u001b[38;5;241m.\u001b[39mmap(square, \u001b[38;5;28mrange\u001b[39m(\u001b[38;5;241m1\u001b[39m, \u001b[38;5;241m11\u001b[39m))\n\u001b[0;32m---> 17\u001b[0m \u001b[38;5;28;01mfor\u001b[39;00m result, elapsed_time \u001b[38;5;129;01min\u001b[39;00m \u001b[38;5;28mmap\u001b[39m(measure_time, [square], [\u001b[38;5;28mrange\u001b[39m(\u001b[38;5;241m1\u001b[39m, \u001b[38;5;241m11\u001b[39m)]):\n\u001b[1;32m     18\u001b[0m     \u001b[38;5;28mprint\u001b[39m(\u001b[38;5;124mf\u001b[39m\u001b[38;5;124m\"\u001b[39m\u001b[38;5;124mSquare of \u001b[39m\u001b[38;5;132;01m{\u001b[39;00mresult\u001b[38;5;132;01m}\u001b[39;00m\u001b[38;5;124m calculated in \u001b[39m\u001b[38;5;132;01m{\u001b[39;00melapsed_time\u001b[38;5;132;01m:\u001b[39;00m\u001b[38;5;124m.5f\u001b[39m\u001b[38;5;132;01m}\u001b[39;00m\u001b[38;5;124m seconds\u001b[39m\u001b[38;5;124m\"\u001b[39m)\n",
      "Cell \u001b[0;32mIn[8], line 9\u001b[0m, in \u001b[0;36mmeasure_time\u001b[0;34m(func, args)\u001b[0m\n\u001b[1;32m      7\u001b[0m \u001b[38;5;28;01mdef\u001b[39;00m \u001b[38;5;21mmeasure_time\u001b[39m(func, args):\n\u001b[1;32m      8\u001b[0m     start_time \u001b[38;5;241m=\u001b[39m time\u001b[38;5;241m.\u001b[39mtime()\n\u001b[0;32m----> 9\u001b[0m     result \u001b[38;5;241m=\u001b[39m \u001b[43mfunc\u001b[49m\u001b[43m(\u001b[49m\u001b[43margs\u001b[49m\u001b[43m)\u001b[49m\n\u001b[1;32m     10\u001b[0m     end_time \u001b[38;5;241m=\u001b[39m time\u001b[38;5;241m.\u001b[39mtime()\n\u001b[1;32m     11\u001b[0m     \u001b[38;5;28;01mreturn\u001b[39;00m result, end_time \u001b[38;5;241m-\u001b[39m start_time\n",
      "Cell \u001b[0;32mIn[8], line 5\u001b[0m, in \u001b[0;36msquare\u001b[0;34m(x)\u001b[0m\n\u001b[1;32m      4\u001b[0m \u001b[38;5;28;01mdef\u001b[39;00m \u001b[38;5;21msquare\u001b[39m(x):\n\u001b[0;32m----> 5\u001b[0m     \u001b[38;5;28;01mreturn\u001b[39;00m \u001b[43mx\u001b[49m\u001b[43m \u001b[49m\u001b[38;5;241;43m*\u001b[39;49m\u001b[43m \u001b[49m\u001b[43mx\u001b[49m\n",
      "\u001b[0;31mTypeError\u001b[0m: unsupported operand type(s) for *: 'range' and 'range'"
     ]
    }
   ],
   "source": [
    "import multiprocessing\n",
    "import time\n",
    "\n",
    "def square(x):\n",
    "    return x * x\n",
    "\n",
    "def measure_time(func, args):\n",
    "    start_time = time.time()\n",
    "    result = func(args)\n",
    "    end_time = time.time()\n",
    "    return result, end_time - start_time\n",
    "\n",
    "if __name__ == \"__main__\":\n",
    "    with multiprocessing.Pool() as pool:\n",
    "        results = pool.map(square, range(1, 11))\n",
    "\n",
    "    for result, elapsed_time in map(measure_time, [square], [range(1, 11)]):\n",
    "        print(f\"Square of {result} calculated in {elapsed_time:.5f} seconds\")"
   ]
  },
  {
   "cell_type": "markdown",
   "id": "5f61cb5d-f78b-40a7-af8b-9264f6d03a7a",
   "metadata": {},
   "source": [
    "```\n",
    "This code:\n",
    "\n",
    "1. Defines a `square` function to calculate the square of a number.\n",
    "2. Defines a `measure_time` function to measure the time taken to execute a function with given arguments.\n",
    "3. Creates a process pool using `multiprocessing.Pool()`.\n",
    "4. Maps the `square` function to the range of numbers using `pool.map()`.\n",
    "5. Measures the time taken for each square calculation using `measure_time`.\n",
    "6. Prints the results and elapsed times.\n"
   ]
  }
 ],
 "metadata": {
  "kernelspec": {
   "display_name": "Python 3 (ipykernel)",
   "language": "python",
   "name": "python3"
  },
  "language_info": {
   "codemirror_mode": {
    "name": "ipython",
    "version": 3
   },
   "file_extension": ".py",
   "mimetype": "text/x-python",
   "name": "python",
   "nbconvert_exporter": "python",
   "pygments_lexer": "ipython3",
   "version": "3.10.8"
  }
 },
 "nbformat": 4,
 "nbformat_minor": 5
}
